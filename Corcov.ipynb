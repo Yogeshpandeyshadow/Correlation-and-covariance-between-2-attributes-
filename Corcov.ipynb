{
 "cells": [
  {
   "cell_type": "code",
   "execution_count": 10,
   "id": "f4f7cb9d",
   "metadata": {},
   "outputs": [],
   "source": [
    "import pandas as pd\n",
    "import numpy as np\n",
    "import matplotlib.pyplot as plt"
   ]
  },
  {
   "cell_type": "code",
   "execution_count": 16,
   "id": "2430e227",
   "metadata": {},
   "outputs": [],
   "source": [
    "data = pd.read_csv(\"explab.csv\")"
   ]
  },
  {
   "cell_type": "code",
   "execution_count": 6,
   "id": "0f9afbd6",
   "metadata": {},
   "outputs": [
    {
     "data": {
      "text/html": [
       "<div>\n",
       "<style scoped>\n",
       "    .dataframe tbody tr th:only-of-type {\n",
       "        vertical-align: middle;\n",
       "    }\n",
       "\n",
       "    .dataframe tbody tr th {\n",
       "        vertical-align: top;\n",
       "    }\n",
       "\n",
       "    .dataframe thead th {\n",
       "        text-align: right;\n",
       "    }\n",
       "</style>\n",
       "<table border=\"1\" class=\"dataframe\">\n",
       "  <thead>\n",
       "    <tr style=\"text-align: right;\">\n",
       "      <th></th>\n",
       "      <th>SPECIMEN</th>\n",
       "      <th>DENSITY</th>\n",
       "      <th>MACHINE STRENGTH</th>\n",
       "      <th>CROSS DIRECTION</th>\n",
       "      <th>Unnamed: 4</th>\n",
       "      <th>Unnamed: 5</th>\n",
       "      <th>Unnamed: 6</th>\n",
       "      <th>Unnamed: 7</th>\n",
       "      <th>Unnamed: 8</th>\n",
       "      <th>Unnamed: 9</th>\n",
       "      <th>Unnamed: 10</th>\n",
       "      <th>Unnamed: 11</th>\n",
       "      <th>Unnamed: 12</th>\n",
       "      <th>Unnamed: 13</th>\n",
       "    </tr>\n",
       "  </thead>\n",
       "  <tbody>\n",
       "    <tr>\n",
       "      <th>0</th>\n",
       "      <td>1</td>\n",
       "      <td>0.801</td>\n",
       "      <td>121.41</td>\n",
       "      <td>70.42</td>\n",
       "      <td>NaN</td>\n",
       "      <td>0.971</td>\n",
       "      <td>0.758</td>\n",
       "      <td>0.213</td>\n",
       "      <td>NaN</td>\n",
       "      <td>NaN</td>\n",
       "      <td>NaN</td>\n",
       "      <td>NaN</td>\n",
       "      <td>NaN</td>\n",
       "      <td>NaN</td>\n",
       "    </tr>\n",
       "    <tr>\n",
       "      <th>1</th>\n",
       "      <td>2</td>\n",
       "      <td>0.824</td>\n",
       "      <td>127.70</td>\n",
       "      <td>72.47</td>\n",
       "      <td>NaN</td>\n",
       "      <td>NaN</td>\n",
       "      <td>NaN</td>\n",
       "      <td>NaN</td>\n",
       "      <td>NaN</td>\n",
       "      <td>NaN</td>\n",
       "      <td>NaN</td>\n",
       "      <td>NaN</td>\n",
       "      <td>NaN</td>\n",
       "      <td>NaN</td>\n",
       "    </tr>\n",
       "    <tr>\n",
       "      <th>2</th>\n",
       "      <td>3</td>\n",
       "      <td>0.841</td>\n",
       "      <td>129.20</td>\n",
       "      <td>78.20</td>\n",
       "      <td>NaN</td>\n",
       "      <td>0.750</td>\n",
       "      <td>NaN</td>\n",
       "      <td>NaN</td>\n",
       "      <td>Column1</td>\n",
       "      <td>NaN</td>\n",
       "      <td>Column2</td>\n",
       "      <td>NaN</td>\n",
       "      <td>Column3</td>\n",
       "      <td>NaN</td>\n",
       "    </tr>\n",
       "    <tr>\n",
       "      <th>3</th>\n",
       "      <td>4</td>\n",
       "      <td>0.816</td>\n",
       "      <td>131.80</td>\n",
       "      <td>74.89</td>\n",
       "      <td>NaN</td>\n",
       "      <td>0.770</td>\n",
       "      <td>NaN</td>\n",
       "      <td>NaN</td>\n",
       "      <td>NaN</td>\n",
       "      <td>NaN</td>\n",
       "      <td>NaN</td>\n",
       "      <td>NaN</td>\n",
       "      <td>NaN</td>\n",
       "      <td>NaN</td>\n",
       "    </tr>\n",
       "    <tr>\n",
       "      <th>4</th>\n",
       "      <td>5</td>\n",
       "      <td>0.840</td>\n",
       "      <td>135.10</td>\n",
       "      <td>71.21</td>\n",
       "      <td>NaN</td>\n",
       "      <td>0.790</td>\n",
       "      <td>NaN</td>\n",
       "      <td>NaN</td>\n",
       "      <td>Mean</td>\n",
       "      <td>0.811854</td>\n",
       "      <td>Mean</td>\n",
       "      <td>120.953415</td>\n",
       "      <td>Mean</td>\n",
       "      <td>67.723171</td>\n",
       "    </tr>\n",
       "  </tbody>\n",
       "</table>\n",
       "</div>"
      ],
      "text/plain": [
       "   SPECIMEN  DENSITY  MACHINE STRENGTH  CROSS DIRECTION  Unnamed: 4  \\\n",
       "0         1    0.801            121.41            70.42         NaN   \n",
       "1         2    0.824            127.70            72.47         NaN   \n",
       "2         3    0.841            129.20            78.20         NaN   \n",
       "3         4    0.816            131.80            74.89         NaN   \n",
       "4         5    0.840            135.10            71.21         NaN   \n",
       "\n",
       "   Unnamed: 5  Unnamed: 6  Unnamed: 7 Unnamed: 8  Unnamed: 9 Unnamed: 10  \\\n",
       "0       0.971       0.758       0.213        NaN         NaN         NaN   \n",
       "1         NaN         NaN         NaN        NaN         NaN         NaN   \n",
       "2       0.750         NaN         NaN    Column1         NaN     Column2   \n",
       "3       0.770         NaN         NaN        NaN         NaN         NaN   \n",
       "4       0.790         NaN         NaN       Mean    0.811854        Mean   \n",
       "\n",
       "   Unnamed: 11 Unnamed: 12  Unnamed: 13  \n",
       "0          NaN         NaN          NaN  \n",
       "1          NaN         NaN          NaN  \n",
       "2          NaN     Column3          NaN  \n",
       "3          NaN         NaN          NaN  \n",
       "4   120.953415        Mean    67.723171  "
      ]
     },
     "execution_count": 6,
     "metadata": {},
     "output_type": "execute_result"
    }
   ],
   "source": [
    "data.head()"
   ]
  },
  {
   "cell_type": "code",
   "execution_count": 7,
   "id": "89ca3500",
   "metadata": {},
   "outputs": [
    {
     "data": {
      "text/html": [
       "<div>\n",
       "<style scoped>\n",
       "    .dataframe tbody tr th:only-of-type {\n",
       "        vertical-align: middle;\n",
       "    }\n",
       "\n",
       "    .dataframe tbody tr th {\n",
       "        vertical-align: top;\n",
       "    }\n",
       "\n",
       "    .dataframe thead th {\n",
       "        text-align: right;\n",
       "    }\n",
       "</style>\n",
       "<table border=\"1\" class=\"dataframe\">\n",
       "  <thead>\n",
       "    <tr style=\"text-align: right;\">\n",
       "      <th></th>\n",
       "      <th>SPECIMEN</th>\n",
       "      <th>DENSITY</th>\n",
       "      <th>MACHINE STRENGTH</th>\n",
       "      <th>CROSS DIRECTION</th>\n",
       "      <th>Unnamed: 4</th>\n",
       "      <th>Unnamed: 5</th>\n",
       "      <th>Unnamed: 6</th>\n",
       "      <th>Unnamed: 7</th>\n",
       "      <th>Unnamed: 9</th>\n",
       "      <th>Unnamed: 11</th>\n",
       "      <th>Unnamed: 13</th>\n",
       "    </tr>\n",
       "  </thead>\n",
       "  <tbody>\n",
       "    <tr>\n",
       "      <th>count</th>\n",
       "      <td>41.000000</td>\n",
       "      <td>41.000000</td>\n",
       "      <td>41.000000</td>\n",
       "      <td>41.000000</td>\n",
       "      <td>0.0</td>\n",
       "      <td>23.000000</td>\n",
       "      <td>1.000</td>\n",
       "      <td>1.000</td>\n",
       "      <td>13.000000</td>\n",
       "      <td>13.000000</td>\n",
       "      <td>12.000000</td>\n",
       "    </tr>\n",
       "    <tr>\n",
       "      <th>mean</th>\n",
       "      <td>21.000000</td>\n",
       "      <td>0.811854</td>\n",
       "      <td>120.953415</td>\n",
       "      <td>67.723171</td>\n",
       "      <td>NaN</td>\n",
       "      <td>0.960478</td>\n",
       "      <td>0.758</td>\n",
       "      <td>0.213</td>\n",
       "      <td>6.913423</td>\n",
       "      <td>438.077157</td>\n",
       "      <td>268.519701</td>\n",
       "    </tr>\n",
       "    <tr>\n",
       "      <th>std</th>\n",
       "      <td>11.979149</td>\n",
       "      <td>0.035561</td>\n",
       "      <td>7.702022</td>\n",
       "      <td>9.790642</td>\n",
       "      <td>NaN</td>\n",
       "      <td>0.126907</td>\n",
       "      <td>NaN</td>\n",
       "      <td>NaN</td>\n",
       "      <td>13.720532</td>\n",
       "      <td>1359.398354</td>\n",
       "      <td>790.565867</td>\n",
       "    </tr>\n",
       "    <tr>\n",
       "      <th>min</th>\n",
       "      <td>1.000000</td>\n",
       "      <td>0.758000</td>\n",
       "      <td>103.510000</td>\n",
       "      <td>48.930000</td>\n",
       "      <td>NaN</td>\n",
       "      <td>0.750000</td>\n",
       "      <td>0.758</td>\n",
       "      <td>0.213</td>\n",
       "      <td>0.001265</td>\n",
       "      <td>-0.708753</td>\n",
       "      <td>-0.893649</td>\n",
       "    </tr>\n",
       "    <tr>\n",
       "      <th>25%</th>\n",
       "      <td>11.000000</td>\n",
       "      <td>0.795000</td>\n",
       "      <td>115.100000</td>\n",
       "      <td>56.530000</td>\n",
       "      <td>NaN</td>\n",
       "      <td>0.860000</td>\n",
       "      <td>0.758</td>\n",
       "      <td>0.213</td>\n",
       "      <td>0.213000</td>\n",
       "      <td>7.702022</td>\n",
       "      <td>7.725242</td>\n",
       "    </tr>\n",
       "    <tr>\n",
       "      <th>50%</th>\n",
       "      <td>21.000000</td>\n",
       "      <td>0.815000</td>\n",
       "      <td>121.410000</td>\n",
       "      <td>70.700000</td>\n",
       "      <td>NaN</td>\n",
       "      <td>0.970000</td>\n",
       "      <td>0.758</td>\n",
       "      <td>0.213</td>\n",
       "      <td>0.811854</td>\n",
       "      <td>59.321148</td>\n",
       "      <td>44.965000</td>\n",
       "    </tr>\n",
       "    <tr>\n",
       "      <th>75%</th>\n",
       "      <td>31.000000</td>\n",
       "      <td>0.826000</td>\n",
       "      <td>126.700000</td>\n",
       "      <td>74.890000</td>\n",
       "      <td>NaN</td>\n",
       "      <td>1.060000</td>\n",
       "      <td>0.758</td>\n",
       "      <td>0.213</td>\n",
       "      <td>2.020801</td>\n",
       "      <td>120.953415</td>\n",
       "      <td>73.107500</td>\n",
       "    </tr>\n",
       "    <tr>\n",
       "      <th>max</th>\n",
       "      <td>41.000000</td>\n",
       "      <td>0.971000</td>\n",
       "      <td>135.100000</td>\n",
       "      <td>80.330000</td>\n",
       "      <td>NaN</td>\n",
       "      <td>1.170000</td>\n",
       "      <td>0.758</td>\n",
       "      <td>0.213</td>\n",
       "      <td>41.000000</td>\n",
       "      <td>4959.090000</td>\n",
       "      <td>2776.650000</td>\n",
       "    </tr>\n",
       "  </tbody>\n",
       "</table>\n",
       "</div>"
      ],
      "text/plain": [
       "        SPECIMEN    DENSITY  MACHINE STRENGTH  CROSS DIRECTION  Unnamed: 4  \\\n",
       "count  41.000000  41.000000         41.000000        41.000000         0.0   \n",
       "mean   21.000000   0.811854        120.953415        67.723171         NaN   \n",
       "std    11.979149   0.035561          7.702022         9.790642         NaN   \n",
       "min     1.000000   0.758000        103.510000        48.930000         NaN   \n",
       "25%    11.000000   0.795000        115.100000        56.530000         NaN   \n",
       "50%    21.000000   0.815000        121.410000        70.700000         NaN   \n",
       "75%    31.000000   0.826000        126.700000        74.890000         NaN   \n",
       "max    41.000000   0.971000        135.100000        80.330000         NaN   \n",
       "\n",
       "       Unnamed: 5  Unnamed: 6  Unnamed: 7  Unnamed: 9  Unnamed: 11  \\\n",
       "count   23.000000       1.000       1.000   13.000000    13.000000   \n",
       "mean     0.960478       0.758       0.213    6.913423   438.077157   \n",
       "std      0.126907         NaN         NaN   13.720532  1359.398354   \n",
       "min      0.750000       0.758       0.213    0.001265    -0.708753   \n",
       "25%      0.860000       0.758       0.213    0.213000     7.702022   \n",
       "50%      0.970000       0.758       0.213    0.811854    59.321148   \n",
       "75%      1.060000       0.758       0.213    2.020801   120.953415   \n",
       "max      1.170000       0.758       0.213   41.000000  4959.090000   \n",
       "\n",
       "       Unnamed: 13  \n",
       "count    12.000000  \n",
       "mean    268.519701  \n",
       "std     790.565867  \n",
       "min      -0.893649  \n",
       "25%       7.725242  \n",
       "50%      44.965000  \n",
       "75%      73.107500  \n",
       "max    2776.650000  "
      ]
     },
     "execution_count": 7,
     "metadata": {},
     "output_type": "execute_result"
    }
   ],
   "source": [
    "data.describe()"
   ]
  },
  {
   "cell_type": "code",
   "execution_count": 8,
   "id": "62f1a715",
   "metadata": {},
   "outputs": [],
   "source": [
    "import matplotlib.pyplot as plt"
   ]
  },
  {
   "cell_type": "code",
   "execution_count": 4,
   "id": "99528f6e",
   "metadata": {},
   "outputs": [],
   "source": [
    "import seaborn as sns"
   ]
  },
  {
   "cell_type": "code",
   "execution_count": 10,
   "id": "e36be807",
   "metadata": {},
   "outputs": [
    {
     "data": {
      "text/plain": [
       "<AxesSubplot:xlabel='DENSITY', ylabel='Count'>"
      ]
     },
     "execution_count": 10,
     "metadata": {},
     "output_type": "execute_result"
    },
    {
     "data": {
      "image/png": "[encoded data removed]",
      "text/plain": [
       "<Figure size 432x288 with 1 Axes>"
      ]
     },
     "metadata": {
      "needs_background": "light"
     },
     "output_type": "display_data"
    }
   ],
   "source": [
    "sns.histplot(data['DENSITY'])"
   ]
  },
  {
   "cell_type": "code",
   "execution_count": 11,
   "id": "da0f3254",
   "metadata": {},
   "outputs": [
    {
     "data": {
      "text/html": [
       "<div>\n",
       "<style scoped>\n",
       "    .dataframe tbody tr th:only-of-type {\n",
       "        vertical-align: middle;\n",
       "    }\n",
       "\n",
       "    .dataframe tbody tr th {\n",
       "        vertical-align: top;\n",
       "    }\n",
       "\n",
       "    .dataframe thead th {\n",
       "        text-align: right;\n",
       "    }\n",
       "</style>\n",
       "<table border=\"1\" class=\"dataframe\">\n",
       "  <thead>\n",
       "    <tr style=\"text-align: right;\">\n",
       "      <th></th>\n",
       "      <th>SPECIMEN</th>\n",
       "      <th>DENSITY</th>\n",
       "      <th>MACHINE STRENGTH</th>\n",
       "      <th>CROSS DIRECTION</th>\n",
       "      <th>Unnamed: 4</th>\n",
       "      <th>Unnamed: 5</th>\n",
       "      <th>Unnamed: 6</th>\n",
       "      <th>Unnamed: 7</th>\n",
       "      <th>Unnamed: 9</th>\n",
       "      <th>Unnamed: 11</th>\n",
       "      <th>Unnamed: 13</th>\n",
       "    </tr>\n",
       "  </thead>\n",
       "  <tbody>\n",
       "    <tr>\n",
       "      <th>SPECIMEN</th>\n",
       "      <td>1.000000</td>\n",
       "      <td>-0.192258</td>\n",
       "      <td>-0.366328</td>\n",
       "      <td>-0.307814</td>\n",
       "      <td>NaN</td>\n",
       "      <td>0.917963</td>\n",
       "      <td>NaN</td>\n",
       "      <td>NaN</td>\n",
       "      <td>0.640041</td>\n",
       "      <td>0.382783</td>\n",
       "      <td>0.378980</td>\n",
       "    </tr>\n",
       "    <tr>\n",
       "      <th>DENSITY</th>\n",
       "      <td>-0.192258</td>\n",
       "      <td>1.000000</td>\n",
       "      <td>0.615014</td>\n",
       "      <td>0.646959</td>\n",
       "      <td>NaN</td>\n",
       "      <td>-0.440121</td>\n",
       "      <td>NaN</td>\n",
       "      <td>NaN</td>\n",
       "      <td>-0.738996</td>\n",
       "      <td>-0.235538</td>\n",
       "      <td>-0.253720</td>\n",
       "    </tr>\n",
       "    <tr>\n",
       "      <th>MACHINE STRENGTH</th>\n",
       "      <td>-0.366328</td>\n",
       "      <td>0.615014</td>\n",
       "      <td>1.000000</td>\n",
       "      <td>0.808836</td>\n",
       "      <td>NaN</td>\n",
       "      <td>-0.487014</td>\n",
       "      <td>NaN</td>\n",
       "      <td>NaN</td>\n",
       "      <td>-0.626067</td>\n",
       "      <td>-0.388108</td>\n",
       "      <td>-0.411517</td>\n",
       "    </tr>\n",
       "    <tr>\n",
       "      <th>CROSS DIRECTION</th>\n",
       "      <td>-0.307814</td>\n",
       "      <td>0.646959</td>\n",
       "      <td>0.808836</td>\n",
       "      <td>1.000000</td>\n",
       "      <td>NaN</td>\n",
       "      <td>-0.568679</td>\n",
       "      <td>NaN</td>\n",
       "      <td>NaN</td>\n",
       "      <td>-0.913418</td>\n",
       "      <td>-0.577526</td>\n",
       "      <td>-0.573708</td>\n",
       "    </tr>\n",
       "    <tr>\n",
       "      <th>Unnamed: 4</th>\n",
       "      <td>NaN</td>\n",
       "      <td>NaN</td>\n",
       "      <td>NaN</td>\n",
       "      <td>NaN</td>\n",
       "      <td>NaN</td>\n",
       "      <td>NaN</td>\n",
       "      <td>NaN</td>\n",
       "      <td>NaN</td>\n",
       "      <td>NaN</td>\n",
       "      <td>NaN</td>\n",
       "      <td>NaN</td>\n",
       "    </tr>\n",
       "    <tr>\n",
       "      <th>Unnamed: 5</th>\n",
       "      <td>0.917963</td>\n",
       "      <td>-0.440121</td>\n",
       "      <td>-0.487014</td>\n",
       "      <td>-0.568679</td>\n",
       "      <td>NaN</td>\n",
       "      <td>1.000000</td>\n",
       "      <td>NaN</td>\n",
       "      <td>NaN</td>\n",
       "      <td>0.640041</td>\n",
       "      <td>0.382783</td>\n",
       "      <td>0.378980</td>\n",
       "    </tr>\n",
       "    <tr>\n",
       "      <th>Unnamed: 6</th>\n",
       "      <td>NaN</td>\n",
       "      <td>NaN</td>\n",
       "      <td>NaN</td>\n",
       "      <td>NaN</td>\n",
       "      <td>NaN</td>\n",
       "      <td>NaN</td>\n",
       "      <td>NaN</td>\n",
       "      <td>NaN</td>\n",
       "      <td>NaN</td>\n",
       "      <td>NaN</td>\n",
       "      <td>NaN</td>\n",
       "    </tr>\n",
       "    <tr>\n",
       "      <th>Unnamed: 7</th>\n",
       "      <td>NaN</td>\n",
       "      <td>NaN</td>\n",
       "      <td>NaN</td>\n",
       "      <td>NaN</td>\n",
       "      <td>NaN</td>\n",
       "      <td>NaN</td>\n",
       "      <td>NaN</td>\n",
       "      <td>NaN</td>\n",
       "      <td>NaN</td>\n",
       "      <td>NaN</td>\n",
       "      <td>NaN</td>\n",
       "    </tr>\n",
       "    <tr>\n",
       "      <th>Unnamed: 9</th>\n",
       "      <td>0.640041</td>\n",
       "      <td>-0.738996</td>\n",
       "      <td>-0.626067</td>\n",
       "      <td>-0.913418</td>\n",
       "      <td>NaN</td>\n",
       "      <td>0.640041</td>\n",
       "      <td>NaN</td>\n",
       "      <td>NaN</td>\n",
       "      <td>1.000000</td>\n",
       "      <td>0.571336</td>\n",
       "      <td>0.570132</td>\n",
       "    </tr>\n",
       "    <tr>\n",
       "      <th>Unnamed: 11</th>\n",
       "      <td>0.382783</td>\n",
       "      <td>-0.235538</td>\n",
       "      <td>-0.388108</td>\n",
       "      <td>-0.577526</td>\n",
       "      <td>NaN</td>\n",
       "      <td>0.382783</td>\n",
       "      <td>NaN</td>\n",
       "      <td>NaN</td>\n",
       "      <td>0.571336</td>\n",
       "      <td>1.000000</td>\n",
       "      <td>0.999731</td>\n",
       "    </tr>\n",
       "    <tr>\n",
       "      <th>Unnamed: 13</th>\n",
       "      <td>0.378980</td>\n",
       "      <td>-0.253720</td>\n",
       "      <td>-0.411517</td>\n",
       "      <td>-0.573708</td>\n",
       "      <td>NaN</td>\n",
       "      <td>0.378980</td>\n",
       "      <td>NaN</td>\n",
       "      <td>NaN</td>\n",
       "      <td>0.570132</td>\n",
       "      <td>0.999731</td>\n",
       "      <td>1.000000</td>\n",
       "    </tr>\n",
       "  </tbody>\n",
       "</table>\n",
       "</div>"
      ],
      "text/plain": [
       "                  SPECIMEN   DENSITY  MACHINE STRENGTH  CROSS DIRECTION  \\\n",
       "SPECIMEN          1.000000 -0.192258         -0.366328        -0.307814   \n",
       "DENSITY          -0.192258  1.000000          0.615014         0.646959   \n",
       "MACHINE STRENGTH -0.366328  0.615014          1.000000         0.808836   \n",
       "CROSS DIRECTION  -0.307814  0.646959          0.808836         1.000000   \n",
       "Unnamed: 4             NaN       NaN               NaN              NaN   \n",
       "Unnamed: 5        0.917963 -0.440121         -0.487014        -0.568679   \n",
       "Unnamed: 6             NaN       NaN               NaN              NaN   \n",
       "Unnamed: 7             NaN       NaN               NaN              NaN   \n",
       "Unnamed: 9        0.640041 -0.738996         -0.626067        -0.913418   \n",
       "Unnamed: 11       0.382783 -0.235538         -0.388108        -0.577526   \n",
       "Unnamed: 13       0.378980 -0.253720         -0.411517        -0.573708   \n",
       "\n",
       "                  Unnamed: 4  Unnamed: 5  Unnamed: 6  Unnamed: 7  Unnamed: 9  \\\n",
       "SPECIMEN                 NaN    0.917963         NaN         NaN    0.640041   \n",
       "DENSITY                  NaN   -0.440121         NaN         NaN   -0.738996   \n",
       "MACHINE STRENGTH         NaN   -0.487014         NaN         NaN   -0.626067   \n",
       "CROSS DIRECTION          NaN   -0.568679         NaN         NaN   -0.913418   \n",
       "Unnamed: 4               NaN         NaN         NaN         NaN         NaN   \n",
       "Unnamed: 5               NaN    1.000000         NaN         NaN    0.640041   \n",
       "Unnamed: 6               NaN         NaN         NaN         NaN         NaN   \n",
       "Unnamed: 7               NaN         NaN         NaN         NaN         NaN   \n",
       "Unnamed: 9               NaN    0.640041         NaN         NaN    1.000000   \n",
       "Unnamed: 11              NaN    0.382783         NaN         NaN    0.571336   \n",
       "Unnamed: 13              NaN    0.378980         NaN         NaN    0.570132   \n",
       "\n",
       "                  Unnamed: 11  Unnamed: 13  \n",
       "SPECIMEN             0.382783     0.378980  \n",
       "DENSITY             -0.235538    -0.253720  \n",
       "MACHINE STRENGTH    -0.388108    -0.411517  \n",
       "CROSS DIRECTION     -0.577526    -0.573708  \n",
       "Unnamed: 4                NaN          NaN  \n",
       "Unnamed: 5           0.382783     0.378980  \n",
       "Unnamed: 6                NaN          NaN  \n",
       "Unnamed: 7                NaN          NaN  \n",
       "Unnamed: 9           0.571336     0.570132  \n",
       "Unnamed: 11          1.000000     0.999731  \n",
       "Unnamed: 13          0.999731     1.000000  "
      ]
     },
     "execution_count": 11,
     "metadata": {},
     "output_type": "execute_result"
    }
   ],
   "source": [
    "data.corr()"
   ]
  },
  {
   "cell_type": "code",
   "execution_count": 12,
   "id": "40fc397b",
   "metadata": {},
   "outputs": [
    {
     "data": {
      "text/plain": [
       "<AxesSubplot:>"
      ]
     },
     "execution_count": 12,
     "metadata": {},
     "output_type": "execute_result"
    },
    {
     "data": {
      "image/png": "[encoded data removed]",
      "text/plain": [
       "<Figure size 432x288 with 2 Axes>"
      ]
     },
     "metadata": {
      "needs_background": "light"
     },
     "output_type": "display_data"
    }
   ],
   "source": [
    "sns.heatmap(data.corr())"
   ]
  },
  {
   "cell_type": "code",
   "execution_count": 13,
   "id": "1d7cc5c2",
   "metadata": {},
   "outputs": [
    {
     "data": {
      "text/html": [
       "<div>\n",
       "<style scoped>\n",
       "    .dataframe tbody tr th:only-of-type {\n",
       "        vertical-align: middle;\n",
       "    }\n",
       "\n",
       "    .dataframe tbody tr th {\n",
       "        vertical-align: top;\n",
       "    }\n",
       "\n",
       "    .dataframe thead th {\n",
       "        text-align: right;\n",
       "    }\n",
       "</style>\n",
       "<table border=\"1\" class=\"dataframe\">\n",
       "  <thead>\n",
       "    <tr style=\"text-align: right;\">\n",
       "      <th></th>\n",
       "      <th>SPECIMEN</th>\n",
       "      <th>DENSITY</th>\n",
       "      <th>MACHINE STRENGTH</th>\n",
       "      <th>CROSS DIRECTION</th>\n",
       "      <th>Unnamed: 4</th>\n",
       "      <th>Unnamed: 5</th>\n",
       "      <th>Unnamed: 6</th>\n",
       "      <th>Unnamed: 7</th>\n",
       "      <th>Unnamed: 9</th>\n",
       "      <th>Unnamed: 11</th>\n",
       "      <th>Unnamed: 13</th>\n",
       "    </tr>\n",
       "  </thead>\n",
       "  <tbody>\n",
       "    <tr>\n",
       "      <th>SPECIMEN</th>\n",
       "      <td>143.500000</td>\n",
       "      <td>-0.081900</td>\n",
       "      <td>-33.798750</td>\n",
       "      <td>-36.101500</td>\n",
       "      <td>NaN</td>\n",
       "      <td>0.799022</td>\n",
       "      <td>NaN</td>\n",
       "      <td>NaN</td>\n",
       "      <td>34.199794</td>\n",
       "      <td>2.026491e+03</td>\n",
       "      <td>1.185600e+03</td>\n",
       "    </tr>\n",
       "    <tr>\n",
       "      <th>DENSITY</th>\n",
       "      <td>-0.081900</td>\n",
       "      <td>0.001265</td>\n",
       "      <td>0.168447</td>\n",
       "      <td>0.225248</td>\n",
       "      <td>NaN</td>\n",
       "      <td>-0.001424</td>\n",
       "      <td>NaN</td>\n",
       "      <td>NaN</td>\n",
       "      <td>-0.226361</td>\n",
       "      <td>-7.148177e+00</td>\n",
       "      <td>-4.618807e+00</td>\n",
       "    </tr>\n",
       "    <tr>\n",
       "      <th>MACHINE STRENGTH</th>\n",
       "      <td>-33.798750</td>\n",
       "      <td>0.168447</td>\n",
       "      <td>59.321148</td>\n",
       "      <td>60.992531</td>\n",
       "      <td>NaN</td>\n",
       "      <td>-0.474387</td>\n",
       "      <td>NaN</td>\n",
       "      <td>NaN</td>\n",
       "      <td>-72.083338</td>\n",
       "      <td>-4.427330e+03</td>\n",
       "      <td>-2.794117e+03</td>\n",
       "    </tr>\n",
       "    <tr>\n",
       "      <th>CROSS DIRECTION</th>\n",
       "      <td>-36.101500</td>\n",
       "      <td>0.225248</td>\n",
       "      <td>60.992531</td>\n",
       "      <td>95.856667</td>\n",
       "      <td>NaN</td>\n",
       "      <td>-0.690123</td>\n",
       "      <td>NaN</td>\n",
       "      <td>NaN</td>\n",
       "      <td>-107.092167</td>\n",
       "      <td>-6.708649e+03</td>\n",
       "      <td>-4.014062e+03</td>\n",
       "    </tr>\n",
       "    <tr>\n",
       "      <th>Unnamed: 4</th>\n",
       "      <td>NaN</td>\n",
       "      <td>NaN</td>\n",
       "      <td>NaN</td>\n",
       "      <td>NaN</td>\n",
       "      <td>NaN</td>\n",
       "      <td>NaN</td>\n",
       "      <td>NaN</td>\n",
       "      <td>NaN</td>\n",
       "      <td>NaN</td>\n",
       "      <td>NaN</td>\n",
       "      <td>NaN</td>\n",
       "    </tr>\n",
       "    <tr>\n",
       "      <th>Unnamed: 5</th>\n",
       "      <td>0.799022</td>\n",
       "      <td>-0.001424</td>\n",
       "      <td>-0.474387</td>\n",
       "      <td>-0.690123</td>\n",
       "      <td>NaN</td>\n",
       "      <td>0.016105</td>\n",
       "      <td>NaN</td>\n",
       "      <td>NaN</td>\n",
       "      <td>0.683996</td>\n",
       "      <td>4.052982e+01</td>\n",
       "      <td>2.371200e+01</td>\n",
       "    </tr>\n",
       "    <tr>\n",
       "      <th>Unnamed: 6</th>\n",
       "      <td>NaN</td>\n",
       "      <td>NaN</td>\n",
       "      <td>NaN</td>\n",
       "      <td>NaN</td>\n",
       "      <td>NaN</td>\n",
       "      <td>NaN</td>\n",
       "      <td>NaN</td>\n",
       "      <td>NaN</td>\n",
       "      <td>NaN</td>\n",
       "      <td>NaN</td>\n",
       "      <td>NaN</td>\n",
       "    </tr>\n",
       "    <tr>\n",
       "      <th>Unnamed: 7</th>\n",
       "      <td>NaN</td>\n",
       "      <td>NaN</td>\n",
       "      <td>NaN</td>\n",
       "      <td>NaN</td>\n",
       "      <td>NaN</td>\n",
       "      <td>NaN</td>\n",
       "      <td>NaN</td>\n",
       "      <td>NaN</td>\n",
       "      <td>NaN</td>\n",
       "      <td>NaN</td>\n",
       "      <td>NaN</td>\n",
       "    </tr>\n",
       "    <tr>\n",
       "      <th>Unnamed: 9</th>\n",
       "      <td>34.199794</td>\n",
       "      <td>-0.226361</td>\n",
       "      <td>-72.083338</td>\n",
       "      <td>-107.092167</td>\n",
       "      <td>NaN</td>\n",
       "      <td>0.683996</td>\n",
       "      <td>NaN</td>\n",
       "      <td>NaN</td>\n",
       "      <td>188.252985</td>\n",
       "      <td>1.065637e+04</td>\n",
       "      <td>6.401087e+03</td>\n",
       "    </tr>\n",
       "    <tr>\n",
       "      <th>Unnamed: 11</th>\n",
       "      <td>2026.491034</td>\n",
       "      <td>-7.148177</td>\n",
       "      <td>-4427.330007</td>\n",
       "      <td>-6708.648679</td>\n",
       "      <td>NaN</td>\n",
       "      <td>40.529821</td>\n",
       "      <td>NaN</td>\n",
       "      <td>NaN</td>\n",
       "      <td>10656.371727</td>\n",
       "      <td>1.847964e+06</td>\n",
       "      <td>1.119316e+06</td>\n",
       "    </tr>\n",
       "    <tr>\n",
       "      <th>Unnamed: 13</th>\n",
       "      <td>1185.599932</td>\n",
       "      <td>-4.618807</td>\n",
       "      <td>-2794.116650</td>\n",
       "      <td>-4014.062342</td>\n",
       "      <td>NaN</td>\n",
       "      <td>23.711999</td>\n",
       "      <td>NaN</td>\n",
       "      <td>NaN</td>\n",
       "      <td>6401.086707</td>\n",
       "      <td>1.119316e+06</td>\n",
       "      <td>6.249944e+05</td>\n",
       "    </tr>\n",
       "  </tbody>\n",
       "</table>\n",
       "</div>"
      ],
      "text/plain": [
       "                     SPECIMEN   DENSITY  MACHINE STRENGTH  CROSS DIRECTION  \\\n",
       "SPECIMEN           143.500000 -0.081900        -33.798750       -36.101500   \n",
       "DENSITY             -0.081900  0.001265          0.168447         0.225248   \n",
       "MACHINE STRENGTH   -33.798750  0.168447         59.321148        60.992531   \n",
       "CROSS DIRECTION    -36.101500  0.225248         60.992531        95.856667   \n",
       "Unnamed: 4                NaN       NaN               NaN              NaN   \n",
       "Unnamed: 5           0.799022 -0.001424         -0.474387        -0.690123   \n",
       "Unnamed: 6                NaN       NaN               NaN              NaN   \n",
       "Unnamed: 7                NaN       NaN               NaN              NaN   \n",
       "Unnamed: 9          34.199794 -0.226361        -72.083338      -107.092167   \n",
       "Unnamed: 11       2026.491034 -7.148177      -4427.330007     -6708.648679   \n",
       "Unnamed: 13       1185.599932 -4.618807      -2794.116650     -4014.062342   \n",
       "\n",
       "                  Unnamed: 4  Unnamed: 5  Unnamed: 6  Unnamed: 7  \\\n",
       "SPECIMEN                 NaN    0.799022         NaN         NaN   \n",
       "DENSITY                  NaN   -0.001424         NaN         NaN   \n",
       "MACHINE STRENGTH         NaN   -0.474387         NaN         NaN   \n",
       "CROSS DIRECTION          NaN   -0.690123         NaN         NaN   \n",
       "Unnamed: 4               NaN         NaN         NaN         NaN   \n",
       "Unnamed: 5               NaN    0.016105         NaN         NaN   \n",
       "Unnamed: 6               NaN         NaN         NaN         NaN   \n",
       "Unnamed: 7               NaN         NaN         NaN         NaN   \n",
       "Unnamed: 9               NaN    0.683996         NaN         NaN   \n",
       "Unnamed: 11              NaN   40.529821         NaN         NaN   \n",
       "Unnamed: 13              NaN   23.711999         NaN         NaN   \n",
       "\n",
       "                    Unnamed: 9   Unnamed: 11   Unnamed: 13  \n",
       "SPECIMEN             34.199794  2.026491e+03  1.185600e+03  \n",
       "DENSITY              -0.226361 -7.148177e+00 -4.618807e+00  \n",
       "MACHINE STRENGTH    -72.083338 -4.427330e+03 -2.794117e+03  \n",
       "CROSS DIRECTION    -107.092167 -6.708649e+03 -4.014062e+03  \n",
       "Unnamed: 4                 NaN           NaN           NaN  \n",
       "Unnamed: 5            0.683996  4.052982e+01  2.371200e+01  \n",
       "Unnamed: 6                 NaN           NaN           NaN  \n",
       "Unnamed: 7                 NaN           NaN           NaN  \n",
       "Unnamed: 9          188.252985  1.065637e+04  6.401087e+03  \n",
       "Unnamed: 11       10656.371727  1.847964e+06  1.119316e+06  \n",
       "Unnamed: 13        6401.086707  1.119316e+06  6.249944e+05  "
      ]
     },
     "execution_count": 13,
     "metadata": {},
     "output_type": "execute_result"
    }
   ],
   "source": [
    "data.cov()"
   ]
  },
  {
   "cell_type": "code",
   "execution_count": 14,
   "id": "3f79b01e",
   "metadata": {},
   "outputs": [
    {
     "data": {
      "text/plain": [
       "<AxesSubplot:>"
      ]
     },
     "execution_count": 14,
     "metadata": {},
     "output_type": "execute_result"
    },
    {
     "data": {
      "image/png": "[encoded data removed]",
      "text/plain": [
       "<Figure size 432x288 with 2 Axes>"
      ]
     },
     "metadata": {
      "needs_background": "light"
     },
     "output_type": "display_data"
    }
   ],
   "source": [
    "sns.heatmap(data.cov())"
   ]
  },
  {
   "cell_type": "code",
   "execution_count": 14,
   "id": "e7ed600d",
   "metadata": {},
   "outputs": [],
   "source": [
    "data.drop(['SPECIMEN'], axis=1,inplace = True)"
   ]
  },
  {
   "cell_type": "code",
   "execution_count": 15,
   "id": "c7af8d74",
   "metadata": {},
   "outputs": [
    {
     "data": {
      "text/html": [
       "<div>\n",
       "<style scoped>\n",
       "    .dataframe tbody tr th:only-of-type {\n",
       "        vertical-align: middle;\n",
       "    }\n",
       "\n",
       "    .dataframe tbody tr th {\n",
       "        vertical-align: top;\n",
       "    }\n",
       "\n",
       "    .dataframe thead th {\n",
       "        text-align: right;\n",
       "    }\n",
       "</style>\n",
       "<table border=\"1\" class=\"dataframe\">\n",
       "  <thead>\n",
       "    <tr style=\"text-align: right;\">\n",
       "      <th></th>\n",
       "      <th>DENSITY</th>\n",
       "      <th>MACHINE STRENGTH</th>\n",
       "      <th>CROSS DIRECTION</th>\n",
       "    </tr>\n",
       "  </thead>\n",
       "  <tbody>\n",
       "    <tr>\n",
       "      <th>0</th>\n",
       "      <td>0.801</td>\n",
       "      <td>121.41</td>\n",
       "      <td>70.42</td>\n",
       "    </tr>\n",
       "    <tr>\n",
       "      <th>1</th>\n",
       "      <td>0.824</td>\n",
       "      <td>127.70</td>\n",
       "      <td>72.47</td>\n",
       "    </tr>\n",
       "    <tr>\n",
       "      <th>2</th>\n",
       "      <td>0.841</td>\n",
       "      <td>129.20</td>\n",
       "      <td>78.20</td>\n",
       "    </tr>\n",
       "    <tr>\n",
       "      <th>3</th>\n",
       "      <td>0.816</td>\n",
       "      <td>131.80</td>\n",
       "      <td>74.89</td>\n",
       "    </tr>\n",
       "    <tr>\n",
       "      <th>4</th>\n",
       "      <td>0.840</td>\n",
       "      <td>135.10</td>\n",
       "      <td>71.21</td>\n",
       "    </tr>\n",
       "  </tbody>\n",
       "</table>\n",
       "</div>"
      ],
      "text/plain": [
       "   DENSITY  MACHINE STRENGTH  CROSS DIRECTION\n",
       "0    0.801            121.41            70.42\n",
       "1    0.824            127.70            72.47\n",
       "2    0.841            129.20            78.20\n",
       "3    0.816            131.80            74.89\n",
       "4    0.840            135.10            71.21"
      ]
     },
     "execution_count": 15,
     "metadata": {},
     "output_type": "execute_result"
    }
   ],
   "source": [
    "data.head()"
   ]
  },
  {
   "cell_type": "code",
   "execution_count": 5,
   "id": "b8b83921",
   "metadata": {},
   "outputs": [],
   "source": [
    "from scipy import stats"
   ]
  },
  {
   "cell_type": "code",
   "execution_count": 6,
   "id": "9bc3d5fc",
   "metadata": {},
   "outputs": [],
   "source": [
    "dfz = stats.zscore(data)"
   ]
  },
  {
   "cell_type": "code",
   "execution_count": 7,
   "id": "4ea354f7",
   "metadata": {},
   "outputs": [
    {
     "data": {
      "text/plain": [
       "<seaborn.axisgrid.PairGrid at 0x2ae5b0a22b0>"
      ]
     },
     "execution_count": 7,
     "metadata": {},
     "output_type": "execute_result"
    },
    {
     "data": {
      "image/png": "[encoded data removed]",
      "text/plain": [
       "<Figure size 720x720 with 20 Axes>"
      ]
     },
     "metadata": {
      "needs_background": "light"
     },
     "output_type": "display_data"
    }
   ],
   "source": [
    "sns.pairplot(dfz, kind='scatter',diag_kind=\"kde\",palette=\"deep\")"
   ]
  },
  {
   "cell_type": "code",
   "execution_count": 9,
   "id": "3837df4b",
   "metadata": {},
   "outputs": [
    {
     "data": {
      "application/vnd.plotly.v1+json": {
       "config": {
        "plotlyServerURL": "https://plot.ly"
       },
       "data": [
        {
         "dimensions": [
          {
           "label": "SPECIMEN",
           "values": [
            -1.6903085094570331,
            -1.6057930839841814,
            -1.52127765851133,
            -1.4367622330384782,
            -1.3522468075656264,
            -1.267731382092775,
            -1.1832159566199232,
            -1.0987005311470714,
            -1.01418510567422,
            -0.9296696802013682,
            -0.8451542547285166,
            -0.760638829255665,
            -0.6761234037828132,
            -0.5916079783099616,
            -0.50709255283711,
            -0.4225771273642583,
            -0.3380617018914066,
            -0.253546276418555,
            -0.1690308509457033,
            -0.08451542547285165,
            0,
            0.08451542547285165,
            0.1690308509457033,
            0.253546276418555,
            0.3380617018914066,
            0.4225771273642583,
            0.50709255283711,
            0.5916079783099616,
            0.6761234037828132,
            0.760638829255665,
            0.8451542547285166,
            0.9296696802013682,
            1.01418510567422,
            1.0987005311470714,
            1.1832159566199232,
            1.267731382092775,
            1.3522468075656264,
            1.4367622330384782,
            1.52127765851133,
            1.6057930839841814,
            1.6903085094570331
           ]
          },
          {
           "label": "DENSITY",
           "values": [
            -0.30900482977582266,
            0.34580765219855797,
            0.8297994867013634,
            0.11804678890312012,
            0.8013293787894337,
            0.8582695946132931,
            0.23192722055083903,
            -0.28053472186389294,
            0.4596880838462769,
            0.2034571126389093,
            0.4027478680224174,
            -0.28053472186389294,
            -0.05277385856845511,
            -0.28053472186389294,
            0.5735685154939958,
            -0.4513553693354713,
            -1.5047493620768715,
            -1.1915781750456444,
            -1.5047493620768715,
            -1.1346379592217848,
            -0.16665429021617403,
            -0.2520646139519632,
            0.9436799183490823,
            0.28886743637469847,
            4.530913515252225,
            0.11804678890312012,
            0.6874489471417148,
            0.08957668099119039,
            0.28886743637469847,
            0.28886743637469847,
            0.8867397025252228,
            0.34580765219855797,
            -0.6791162326309091,
            -0.8499368801024876,
            -0.4798254772474011,
            -0.19512439812810375,
            0.6874489471417148,
            -0.6791162326309091,
            -1.1346379592217848,
            -1.020757527574066,
            -1.533219469988801
           ]
          },
          {
           "label": "MACHINE STRENGTH",
           "values": [
            0.06001767212899573,
            0.886831639294959,
            1.0840050813854092,
            1.4257723810088625,
            1.859553953607855,
            1.3863376925907707,
            0.7553826779013243,
            -0.7694252742648396,
            1.2943234196152278,
            0.4793398589746902,
            -0.34747410819127117,
            -0.8877293395191098,
            -0.08589067501793873,
            -0.6905558974286578,
            -0.4526332773061786,
            -1.4647902800371664,
            -1.558119042626648,
            -0.7694252742648396,
            -0.34747410819127117,
            -1.0980476777489265,
            -0.6248314167318404,
            -0.3882232862232982,
            1.3206132118939533,
            0.6239337165076896,
            0.6765133010651423,
            0.6370786126470522,
            0.5976439242289622,
            0.8999765354343218,
            1.254888731197136,
            0.9131214315736863,
            0.3873255859991474,
            0.41361537827787287,
            -0.020166194321121374,
            -1.7815822769958256,
            -0.0333110904604841,
            0.1257421528258131,
            0.17832173738326773,
            -1.360945600536196,
            -2.292918736817065,
            -1.3464862147828962,
            -0.9403089240765644
           ]
          },
          {
           "label": "CROSS DIRECTION",
           "values": [
            0.2788715580124304,
            0.4908563138317728,
            1.0833795581463264,
            0.7411017328965581,
            0.360563244401347,
            1.1030269257588505,
            0.13410148086751283,
            0.556002848546985,
            1.1950593319438334,
            0.9055191776539998,
            0.26129233435911886,
            0.533253264995641,
            0.05240979447859621,
            0.04103500270292422,
            0.4029601955652167,
            -1.512141110666114,
            -1.7448073060775877,
            -1.6589793317702441,
            -1.7706591055677514,
            -1.4697441595022458,
            -1.1574544216610674,
            0.3078255734414139,
            0.6852618459978037,
            0.05861422635623574,
            0.45259565058633,
            0.3016211415637744,
            0.890008097959901,
            0.9334391211033762,
            1.303636889802521,
            0.8227934192854761,
            1.1185380054529495,
            0.4329482829738058,
            0.051375722498989126,
            -1.3756436093580493,
            0.2778374860328233,
            0.6159790233641662,
            0.7452380208149849,
            -1.4687100875226387,
            -1.9433491261620455,
            -1.4531990078285406,
            -1.5824580052793593
           ]
          }
         ],
         "domain": {
          "x": [
           0,
           1
          ],
          "y": [
           0,
           1
          ]
         },
         "name": "",
         "type": "parcoords"
        }
       ],
       "layout": {
        "legend": {
         "tracegroupgap": 0
        },
        "margin": {
         "t": 60
        },
        "template": {
         "data": {
          "bar": [
           {
            "error_x": {
             "color": "#2a3f5f"
            },
            "error_y": {
             "color": "#2a3f5f"
            },
            "marker": {
             "line": {
              "color": "#E5ECF6",
              "width": 0.5
             },
             "pattern": {
              "fillmode": "overlay",
              "size": 10,
              "solidity": 0.2
             }
            },
            "type": "bar"
           }
          ],
          "barpolar": [
           {
            "marker": {
             "line": {
              "color": "#E5ECF6",
              "width": 0.5
             },
             "pattern": {
              "fillmode": "overlay",
              "size": 10,
              "solidity": 0.2
             }
            },
            "type": "barpolar"
           }
          ],
          "carpet": [
           {
            "aaxis": {
             "endlinecolor": "#2a3f5f",
             "gridcolor": "white",
             "linecolor": "white",
             "minorgridcolor": "white",
             "startlinecolor": "#2a3f5f"
            },
            "baxis": {
             "endlinecolor": "#2a3f5f",
             "gridcolor": "white",
             "linecolor": "white",
             "minorgridcolor": "white",
             "startlinecolor": "#2a3f5f"
            },
            "type": "carpet"
           }
          ],
          "choropleth": [
           {
            "colorbar": {
             "outlinewidth": 0,
             "ticks": ""
            },
            "type": "choropleth"
           }
          ],
          "contour": [
           {
            "colorbar": {
             "outlinewidth": 0,
             "ticks": ""
            },
            "colorscale": [
             [
              0,
              "#0d0887"
             ],
             [
              0.1111111111111111,
              "#46039f"
             ],
             [
              0.2222222222222222,
              "#7201a8"
             ],
             [
              0.3333333333333333,
              "#9c179e"
             ],
             [
              0.4444444444444444,
              "#bd3786"
             ],
             [
              0.5555555555555556,
              "#d8576b"
             ],
             [
              0.6666666666666666,
              "#ed7953"
             ],
             [
              0.7777777777777778,
              "#fb9f3a"
             ],
             [
              0.8888888888888888,
              "#fdca26"
             ],
             [
              1,
              "#f0f921"
             ]
            ],
            "type": "contour"
           }
          ],
          "contourcarpet": [
           {
            "colorbar": {
             "outlinewidth": 0,
             "ticks": ""
            },
            "type": "contourcarpet"
           }
          ],
          "heatmap": [
           {
            "colorbar": {
             "outlinewidth": 0,
             "ticks": ""
            },
            "colorscale": [
             [
              0,
              "#0d0887"
             ],
             [
              0.1111111111111111,
              "#46039f"
             ],
             [
              0.2222222222222222,
              "#7201a8"
             ],
             [
              0.3333333333333333,
              "#9c179e"
             ],
             [
              0.4444444444444444,
              "#bd3786"
             ],
             [
              0.5555555555555556,
              "#d8576b"
             ],
             [
              0.6666666666666666,
              "#ed7953"
             ],
             [
              0.7777777777777778,
              "#fb9f3a"
             ],
             [
              0.8888888888888888,
              "#fdca26"
             ],
             [
              1,
              "#f0f921"
             ]
            ],
            "type": "heatmap"
           }
          ],
          "heatmapgl": [
           {
            "colorbar": {
             "outlinewidth": 0,
             "ticks": ""
            },
            "colorscale": [
             [
              0,
              "#0d0887"
             ],
             [
              0.1111111111111111,
              "#46039f"
             ],
             [
              0.2222222222222222,
              "#7201a8"
             ],
             [
              0.3333333333333333,
              "#9c179e"
             ],
             [
              0.4444444444444444,
              "#bd3786"
             ],
             [
              0.5555555555555556,
              "#d8576b"
             ],
             [
              0.6666666666666666,
              "#ed7953"
             ],
             [
              0.7777777777777778,
              "#fb9f3a"
             ],
             [
              0.8888888888888888,
              "#fdca26"
             ],
             [
              1,
              "#f0f921"
             ]
            ],
            "type": "heatmapgl"
           }
          ],
          "histogram": [
           {
            "marker": {
             "pattern": {
              "fillmode": "overlay",
              "size": 10,
              "solidity": 0.2
             }
            },
            "type": "histogram"
           }
          ],
          "histogram2d": [
           {
            "colorbar": {
             "outlinewidth": 0,
             "ticks": ""
            },
            "colorscale": [
             [
              0,
              "#0d0887"
             ],
             [
              0.1111111111111111,
              "#46039f"
             ],
             [
              0.2222222222222222,
              "#7201a8"
             ],
             [
              0.3333333333333333,
              "#9c179e"
             ],
             [
              0.4444444444444444,
              "#bd3786"
             ],
             [
              0.5555555555555556,
              "#d8576b"
             ],
             [
              0.6666666666666666,
              "#ed7953"
             ],
             [
              0.7777777777777778,
              "#fb9f3a"
             ],
             [
              0.8888888888888888,
              "#fdca26"
             ],
             [
              1,
              "#f0f921"
             ]
            ],
            "type": "histogram2d"
           }
          ],
          "histogram2dcontour": [
           {
            "colorbar": {
             "outlinewidth": 0,
             "ticks": ""
            },
            "colorscale": [
             [
              0,
              "#0d0887"
             ],
             [
              0.1111111111111111,
              "#46039f"
             ],
             [
              0.2222222222222222,
              "#7201a8"
             ],
             [
              0.3333333333333333,
              "#9c179e"
             ],
             [
              0.4444444444444444,
              "#bd3786"
             ],
             [
              0.5555555555555556,
              "#d8576b"
             ],
             [
              0.6666666666666666,
              "#ed7953"
             ],
             [
              0.7777777777777778,
              "#fb9f3a"
             ],
             [
              0.8888888888888888,
              "#fdca26"
             ],
             [
              1,
              "#f0f921"
             ]
            ],
            "type": "histogram2dcontour"
           }
          ],
          "mesh3d": [
           {
            "colorbar": {
             "outlinewidth": 0,
             "ticks": ""
            },
            "type": "mesh3d"
           }
          ],
          "parcoords": [
           {
            "line": {
             "colorbar": {
              "outlinewidth": 0,
              "ticks": ""
             }
            },
            "type": "parcoords"
           }
          ],
          "pie": [
           {
            "automargin": true,
            "type": "pie"
           }
          ],
          "scatter": [
           {
            "marker": {
             "colorbar": {
              "outlinewidth": 0,
              "ticks": ""
             }
            },
            "type": "scatter"
           }
          ],
          "scatter3d": [
           {
            "line": {
             "colorbar": {
              "outlinewidth": 0,
              "ticks": ""
             }
            },
            "marker": {
             "colorbar": {
              "outlinewidth": 0,
              "ticks": ""
             }
            },
            "type": "scatter3d"
           }
          ],
          "scattercarpet": [
           {
            "marker": {
             "colorbar": {
              "outlinewidth": 0,
              "ticks": ""
             }
            },
            "type": "scattercarpet"
           }
          ],
          "scattergeo": [
           {
            "marker": {
             "colorbar": {
              "outlinewidth": 0,
              "ticks": ""
             }
            },
            "type": "scattergeo"
           }
          ],
          "scattergl": [
           {
            "marker": {
             "colorbar": {
              "outlinewidth": 0,
              "ticks": ""
             }
            },
            "type": "scattergl"
           }
          ],
          "scattermapbox": [
           {
            "marker": {
             "colorbar": {
              "outlinewidth": 0,
              "ticks": ""
             }
            },
            "type": "scattermapbox"
           }
          ],
          "scatterpolar": [
           {
            "marker": {
             "colorbar": {
              "outlinewidth": 0,
              "ticks": ""
             }
            },
            "type": "scatterpolar"
           }
          ],
          "scatterpolargl": [
           {
            "marker": {
             "colorbar": {
              "outlinewidth": 0,
              "ticks": ""
             }
            },
            "type": "scatterpolargl"
           }
          ],
          "scatterternary": [
           {
            "marker": {
             "colorbar": {
              "outlinewidth": 0,
              "ticks": ""
             }
            },
            "type": "scatterternary"
           }
          ],
          "surface": [
           {
            "colorbar": {
             "outlinewidth": 0,
             "ticks": ""
            },
            "colorscale": [
             [
              0,
              "#0d0887"
             ],
             [
              0.1111111111111111,
              "#46039f"
             ],
             [
              0.2222222222222222,
              "#7201a8"
             ],
             [
              0.3333333333333333,
              "#9c179e"
             ],
             [
              0.4444444444444444,
              "#bd3786"
             ],
             [
              0.5555555555555556,
              "#d8576b"
             ],
             [
              0.6666666666666666,
              "#ed7953"
             ],
             [
              0.7777777777777778,
              "#fb9f3a"
             ],
             [
              0.8888888888888888,
              "#fdca26"
             ],
             [
              1,
              "#f0f921"
             ]
            ],
            "type": "surface"
           }
          ],
          "table": [
           {
            "cells": {
             "fill": {
              "color": "#EBF0F8"
             },
             "line": {
              "color": "white"
             }
            },
            "header": {
             "fill": {
              "color": "#C8D4E3"
             },
             "line": {
              "color": "white"
             }
            },
            "type": "table"
           }
          ]
         },
         "layout": {
          "annotationdefaults": {
           "arrowcolor": "#2a3f5f",
           "arrowhead": 0,
           "arrowwidth": 1
          },
          "autotypenumbers": "strict",
          "coloraxis": {
           "colorbar": {
            "outlinewidth": 0,
            "ticks": ""
           }
          },
          "colorscale": {
           "diverging": [
            [
             0,
             "#8e0152"
            ],
            [
             0.1,
             "#c51b7d"
            ],
            [
             0.2,
             "#de77ae"
            ],
            [
             0.3,
             "#f1b6da"
            ],
            [
             0.4,
             "#fde0ef"
            ],
            [
             0.5,
             "#f7f7f7"
            ],
            [
             0.6,
             "#e6f5d0"
            ],
            [
             0.7,
             "#b8e186"
            ],
            [
             0.8,
             "#7fbc41"
            ],
            [
             0.9,
             "#4d9221"
            ],
            [
             1,
             "#276419"
            ]
           ],
           "sequential": [
            [
             0,
             "#0d0887"
            ],
            [
             0.1111111111111111,
             "#46039f"
            ],
            [
             0.2222222222222222,
             "#7201a8"
            ],
            [
             0.3333333333333333,
             "#9c179e"
            ],
            [
             0.4444444444444444,
             "#bd3786"
            ],
            [
             0.5555555555555556,
             "#d8576b"
            ],
            [
             0.6666666666666666,
             "#ed7953"
            ],
            [
             0.7777777777777778,
             "#fb9f3a"
            ],
            [
             0.8888888888888888,
             "#fdca26"
            ],
            [
             1,
             "#f0f921"
            ]
           ],
           "sequentialminus": [
            [
             0,
             "#0d0887"
            ],
            [
             0.1111111111111111,
             "#46039f"
            ],
            [
             0.2222222222222222,
             "#7201a8"
            ],
            [
             0.3333333333333333,
             "#9c179e"
            ],
            [
             0.4444444444444444,
             "#bd3786"
            ],
            [
             0.5555555555555556,
             "#d8576b"
            ],
            [
             0.6666666666666666,
             "#ed7953"
            ],
            [
             0.7777777777777778,
             "#fb9f3a"
            ],
            [
             0.8888888888888888,
             "#fdca26"
            ],
            [
             1,
             "#f0f921"
            ]
           ]
          },
          "colorway": [
           "#636efa",
           "#EF553B",
           "#00cc96",
           "#ab63fa",
           "#FFA15A",
           "#19d3f3",
           "#FF6692",
           "#B6E880",
           "#FF97FF",
           "#FECB52"
          ],
          "font": {
           "color": "#2a3f5f"
          },
          "geo": {
           "bgcolor": "white",
           "lakecolor": "white",
           "landcolor": "#E5ECF6",
           "showlakes": true,
           "showland": true,
           "subunitcolor": "white"
          },
          "hoverlabel": {
           "align": "left"
          },
          "hovermode": "closest",
          "mapbox": {
           "style": "light"
          },
          "paper_bgcolor": "white",
          "plot_bgcolor": "#E5ECF6",
          "polar": {
           "angularaxis": {
            "gridcolor": "white",
            "linecolor": "white",
            "ticks": ""
           },
           "bgcolor": "#E5ECF6",
           "radialaxis": {
            "gridcolor": "white",
            "linecolor": "white",
            "ticks": ""
           }
          },
          "scene": {
           "xaxis": {
            "backgroundcolor": "#E5ECF6",
            "gridcolor": "white",
            "gridwidth": 2,
            "linecolor": "white",
            "showbackground": true,
            "ticks": "",
            "zerolinecolor": "white"
           },
           "yaxis": {
            "backgroundcolor": "#E5ECF6",
            "gridcolor": "white",
            "gridwidth": 2,
            "linecolor": "white",
            "showbackground": true,
            "ticks": "",
            "zerolinecolor": "white"
           },
           "zaxis": {
            "backgroundcolor": "#E5ECF6",
            "gridcolor": "white",
            "gridwidth": 2,
            "linecolor": "white",
            "showbackground": true,
            "ticks": "",
            "zerolinecolor": "white"
           }
          },
          "shapedefaults": {
           "line": {
            "color": "#2a3f5f"
           }
          },
          "ternary": {
           "aaxis": {
            "gridcolor": "white",
            "linecolor": "white",
            "ticks": ""
           },
           "baxis": {
            "gridcolor": "white",
            "linecolor": "white",
            "ticks": ""
           },
           "bgcolor": "#E5ECF6",
           "caxis": {
            "gridcolor": "white",
            "linecolor": "white",
            "ticks": ""
           }
          },
          "title": {
           "x": 0.05
          },
          "xaxis": {
           "automargin": true,
           "gridcolor": "white",
           "linecolor": "white",
           "ticks": "",
           "title": {
            "standoff": 15
           },
           "zerolinecolor": "white",
           "zerolinewidth": 2
          },
          "yaxis": {
           "automargin": true,
           "gridcolor": "white",
           "linecolor": "white",
           "ticks": "",
           "title": {
            "standoff": 15
           },
           "zerolinecolor": "white",
           "zerolinewidth": 2
          }
         }
        }
       }
      },
      "text/html": [
       "<div>                            <div id=\"ad7349b4-3b1c-46dd-bf16-f7d9627b05fa\" class=\"plotly-graph-div\" style=\"height:525px; width:100%;\"></div>            <script type=\"text/javascript\">                require([\"plotly\"], function(Plotly) {                    window.PLOTLYENV=window.PLOTLYENV || {};                                    if (document.getElementById(\"ad7349b4-3b1c-46dd-bf16-f7d9627b05fa\")) {                    Plotly.newPlot(                        \"ad7349b4-3b1c-46dd-bf16-f7d9627b05fa\",                        [{\"dimensions\":[{\"label\":\"SPECIMEN\",\"values\":[-1.6903085094570331,-1.6057930839841814,-1.52127765851133,-1.4367622330384782,-1.3522468075656264,-1.267731382092775,-1.1832159566199232,-1.0987005311470714,-1.01418510567422,-0.9296696802013682,-0.8451542547285166,-0.760638829255665,-0.6761234037828132,-0.5916079783099616,-0.50709255283711,-0.4225771273642583,-0.3380617018914066,-0.253546276418555,-0.1690308509457033,-0.08451542547285165,0.0,0.08451542547285165,0.1690308509457033,0.253546276418555,0.3380617018914066,0.4225771273642583,0.50709255283711,0.5916079783099616,0.6761234037828132,0.760638829255665,0.8451542547285166,0.9296696802013682,1.01418510567422,1.0987005311470714,1.1832159566199232,1.267731382092775,1.3522468075656264,1.4367622330384782,1.52127765851133,1.6057930839841814,1.6903085094570331]},{\"label\":\"DENSITY\",\"values\":[-0.30900482977582266,0.34580765219855797,0.8297994867013634,0.11804678890312012,0.8013293787894337,0.8582695946132931,0.23192722055083903,-0.28053472186389294,0.4596880838462769,0.2034571126389093,0.4027478680224174,-0.28053472186389294,-0.05277385856845511,-0.28053472186389294,0.5735685154939958,-0.4513553693354713,-1.5047493620768715,-1.1915781750456444,-1.5047493620768715,-1.1346379592217848,-0.16665429021617403,-0.2520646139519632,0.9436799183490823,0.28886743637469847,4.530913515252225,0.11804678890312012,0.6874489471417148,0.08957668099119039,0.28886743637469847,0.28886743637469847,0.8867397025252228,0.34580765219855797,-0.6791162326309091,-0.8499368801024876,-0.4798254772474011,-0.19512439812810375,0.6874489471417148,-0.6791162326309091,-1.1346379592217848,-1.020757527574066,-1.533219469988801]},{\"label\":\"MACHINE STRENGTH\",\"values\":[0.06001767212899573,0.886831639294959,1.0840050813854092,1.4257723810088625,1.859553953607855,1.3863376925907707,0.7553826779013243,-0.7694252742648396,1.2943234196152278,0.4793398589746902,-0.34747410819127117,-0.8877293395191098,-0.08589067501793873,-0.6905558974286578,-0.4526332773061786,-1.4647902800371664,-1.558119042626648,-0.7694252742648396,-0.34747410819127117,-1.0980476777489265,-0.6248314167318404,-0.3882232862232982,1.3206132118939533,0.6239337165076896,0.6765133010651423,0.6370786126470522,0.5976439242289622,0.8999765354343218,1.254888731197136,0.9131214315736863,0.3873255859991474,0.41361537827787287,-0.020166194321121374,-1.7815822769958256,-0.0333110904604841,0.1257421528258131,0.17832173738326773,-1.360945600536196,-2.292918736817065,-1.3464862147828962,-0.9403089240765644]},{\"label\":\"CROSS DIRECTION\",\"values\":[0.2788715580124304,0.4908563138317728,1.0833795581463264,0.7411017328965581,0.360563244401347,1.1030269257588505,0.13410148086751283,0.556002848546985,1.1950593319438334,0.9055191776539998,0.26129233435911886,0.533253264995641,0.05240979447859621,0.04103500270292422,0.4029601955652167,-1.512141110666114,-1.7448073060775877,-1.6589793317702441,-1.7706591055677514,-1.4697441595022458,-1.1574544216610674,0.3078255734414139,0.6852618459978037,0.05861422635623574,0.45259565058633,0.3016211415637744,0.890008097959901,0.9334391211033762,1.303636889802521,0.8227934192854761,1.1185380054529495,0.4329482829738058,0.051375722498989126,-1.3756436093580493,0.2778374860328233,0.6159790233641662,0.7452380208149849,-1.4687100875226387,-1.9433491261620455,-1.4531990078285406,-1.5824580052793593]}],\"domain\":{\"x\":[0.0,1.0],\"y\":[0.0,1.0]},\"name\":\"\",\"type\":\"parcoords\"}],                        {\"template\":{\"data\":{\"bar\":[{\"error_x\":{\"color\":\"#2a3f5f\"},\"error_y\":{\"color\":\"#2a3f5f\"},\"marker\":{\"line\":{\"color\":\"#E5ECF6\",\"width\":0.5},\"pattern\":{\"fillmode\":\"overlay\",\"size\":10,\"solidity\":0.2}},\"type\":\"bar\"}],\"barpolar\":[{\"marker\":{\"line\":{\"color\":\"#E5ECF6\",\"width\":0.5},\"pattern\":{\"fillmode\":\"overlay\",\"size\":10,\"solidity\":0.2}},\"type\":\"barpolar\"}],\"carpet\":[{\"aaxis\":{\"endlinecolor\":\"#2a3f5f\",\"gridcolor\":\"white\",\"linecolor\":\"white\",\"minorgridcolor\":\"white\",\"startlinecolor\":\"#2a3f5f\"},\"baxis\":{\"endlinecolor\":\"#2a3f5f\",\"gridcolor\":\"white\",\"linecolor\":\"white\",\"minorgridcolor\":\"white\",\"startlinecolor\":\"#2a3f5f\"},\"type\":\"carpet\"}],\"choropleth\":[{\"colorbar\":{\"outlinewidth\":0,\"ticks\":\"\"},\"type\":\"choropleth\"}],\"contour\":[{\"colorbar\":{\"outlinewidth\":0,\"ticks\":\"\"},\"colorscale\":[[0.0,\"#0d0887\"],[0.1111111111111111,\"#46039f\"],[0.2222222222222222,\"#7201a8\"],[0.3333333333333333,\"#9c179e\"],[0.4444444444444444,\"#bd3786\"],[0.5555555555555556,\"#d8576b\"],[0.6666666666666666,\"#ed7953\"],[0.7777777777777778,\"#fb9f3a\"],[0.8888888888888888,\"#fdca26\"],[1.0,\"#f0f921\"]],\"type\":\"contour\"}],\"contourcarpet\":[{\"colorbar\":{\"outlinewidth\":0,\"ticks\":\"\"},\"type\":\"contourcarpet\"}],\"heatmap\":[{\"colorbar\":{\"outlinewidth\":0,\"ticks\":\"\"},\"colorscale\":[[0.0,\"#0d0887\"],[0.1111111111111111,\"#46039f\"],[0.2222222222222222,\"#7201a8\"],[0.3333333333333333,\"#9c179e\"],[0.4444444444444444,\"#bd3786\"],[0.5555555555555556,\"#d8576b\"],[0.6666666666666666,\"#ed7953\"],[0.7777777777777778,\"#fb9f3a\"],[0.8888888888888888,\"#fdca26\"],[1.0,\"#f0f921\"]],\"type\":\"heatmap\"}],\"heatmapgl\":[{\"colorbar\":{\"outlinewidth\":0,\"ticks\":\"\"},\"colorscale\":[[0.0,\"#0d0887\"],[0.1111111111111111,\"#46039f\"],[0.2222222222222222,\"#7201a8\"],[0.3333333333333333,\"#9c179e\"],[0.4444444444444444,\"#bd3786\"],[0.5555555555555556,\"#d8576b\"],[0.6666666666666666,\"#ed7953\"],[0.7777777777777778,\"#fb9f3a\"],[0.8888888888888888,\"#fdca26\"],[1.0,\"#f0f921\"]],\"type\":\"heatmapgl\"}],\"histogram\":[{\"marker\":{\"pattern\":{\"fillmode\":\"overlay\",\"size\":10,\"solidity\":0.2}},\"type\":\"histogram\"}],\"histogram2d\":[{\"colorbar\":{\"outlinewidth\":0,\"ticks\":\"\"},\"colorscale\":[[0.0,\"#0d0887\"],[0.1111111111111111,\"#46039f\"],[0.2222222222222222,\"#7201a8\"],[0.3333333333333333,\"#9c179e\"],[0.4444444444444444,\"#bd3786\"],[0.5555555555555556,\"#d8576b\"],[0.6666666666666666,\"#ed7953\"],[0.7777777777777778,\"#fb9f3a\"],[0.8888888888888888,\"#fdca26\"],[1.0,\"#f0f921\"]],\"type\":\"histogram2d\"}],\"histogram2dcontour\":[{\"colorbar\":{\"outlinewidth\":0,\"ticks\":\"\"},\"colorscale\":[[0.0,\"#0d0887\"],[0.1111111111111111,\"#46039f\"],[0.2222222222222222,\"#7201a8\"],[0.3333333333333333,\"#9c179e\"],[0.4444444444444444,\"#bd3786\"],[0.5555555555555556,\"#d8576b\"],[0.6666666666666666,\"#ed7953\"],[0.7777777777777778,\"#fb9f3a\"],[0.8888888888888888,\"#fdca26\"],[1.0,\"#f0f921\"]],\"type\":\"histogram2dcontour\"}],\"mesh3d\":[{\"colorbar\":{\"outlinewidth\":0,\"ticks\":\"\"},\"type\":\"mesh3d\"}],\"parcoords\":[{\"line\":{\"colorbar\":{\"outlinewidth\":0,\"ticks\":\"\"}},\"type\":\"parcoords\"}],\"pie\":[{\"automargin\":true,\"type\":\"pie\"}],\"scatter\":[{\"marker\":{\"colorbar\":{\"outlinewidth\":0,\"ticks\":\"\"}},\"type\":\"scatter\"}],\"scatter3d\":[{\"line\":{\"colorbar\":{\"outlinewidth\":0,\"ticks\":\"\"}},\"marker\":{\"colorbar\":{\"outlinewidth\":0,\"ticks\":\"\"}},\"type\":\"scatter3d\"}],\"scattercarpet\":[{\"marker\":{\"colorbar\":{\"outlinewidth\":0,\"ticks\":\"\"}},\"type\":\"scattercarpet\"}],\"scattergeo\":[{\"marker\":{\"colorbar\":{\"outlinewidth\":0,\"ticks\":\"\"}},\"type\":\"scattergeo\"}],\"scattergl\":[{\"marker\":{\"colorbar\":{\"outlinewidth\":0,\"ticks\":\"\"}},\"type\":\"scattergl\"}],\"scattermapbox\":[{\"marker\":{\"colorbar\":{\"outlinewidth\":0,\"ticks\":\"\"}},\"type\":\"scattermapbox\"}],\"scatterpolar\":[{\"marker\":{\"colorbar\":{\"outlinewidth\":0,\"ticks\":\"\"}},\"type\":\"scatterpolar\"}],\"scatterpolargl\":[{\"marker\":{\"colorbar\":{\"outlinewidth\":0,\"ticks\":\"\"}},\"type\":\"scatterpolargl\"}],\"scatterternary\":[{\"marker\":{\"colorbar\":{\"outlinewidth\":0,\"ticks\":\"\"}},\"type\":\"scatterternary\"}],\"surface\":[{\"colorbar\":{\"outlinewidth\":0,\"ticks\":\"\"},\"colorscale\":[[0.0,\"#0d0887\"],[0.1111111111111111,\"#46039f\"],[0.2222222222222222,\"#7201a8\"],[0.3333333333333333,\"#9c179e\"],[0.4444444444444444,\"#bd3786\"],[0.5555555555555556,\"#d8576b\"],[0.6666666666666666,\"#ed7953\"],[0.7777777777777778,\"#fb9f3a\"],[0.8888888888888888,\"#fdca26\"],[1.0,\"#f0f921\"]],\"type\":\"surface\"}],\"table\":[{\"cells\":{\"fill\":{\"color\":\"#EBF0F8\"},\"line\":{\"color\":\"white\"}},\"header\":{\"fill\":{\"color\":\"#C8D4E3\"},\"line\":{\"color\":\"white\"}},\"type\":\"table\"}]},\"layout\":{\"annotationdefaults\":{\"arrowcolor\":\"#2a3f5f\",\"arrowhead\":0,\"arrowwidth\":1},\"autotypenumbers\":\"strict\",\"coloraxis\":{\"colorbar\":{\"outlinewidth\":0,\"ticks\":\"\"}},\"colorscale\":{\"diverging\":[[0,\"#8e0152\"],[0.1,\"#c51b7d\"],[0.2,\"#de77ae\"],[0.3,\"#f1b6da\"],[0.4,\"#fde0ef\"],[0.5,\"#f7f7f7\"],[0.6,\"#e6f5d0\"],[0.7,\"#b8e186\"],[0.8,\"#7fbc41\"],[0.9,\"#4d9221\"],[1,\"#276419\"]],\"sequential\":[[0.0,\"#0d0887\"],[0.1111111111111111,\"#46039f\"],[0.2222222222222222,\"#7201a8\"],[0.3333333333333333,\"#9c179e\"],[0.4444444444444444,\"#bd3786\"],[0.5555555555555556,\"#d8576b\"],[0.6666666666666666,\"#ed7953\"],[0.7777777777777778,\"#fb9f3a\"],[0.8888888888888888,\"#fdca26\"],[1.0,\"#f0f921\"]],\"sequentialminus\":[[0.0,\"#0d0887\"],[0.1111111111111111,\"#46039f\"],[0.2222222222222222,\"#7201a8\"],[0.3333333333333333,\"#9c179e\"],[0.4444444444444444,\"#bd3786\"],[0.5555555555555556,\"#d8576b\"],[0.6666666666666666,\"#ed7953\"],[0.7777777777777778,\"#fb9f3a\"],[0.8888888888888888,\"#fdca26\"],[1.0,\"#f0f921\"]]},\"colorway\":[\"#636efa\",\"#EF553B\",\"#00cc96\",\"#ab63fa\",\"#FFA15A\",\"#19d3f3\",\"#FF6692\",\"#B6E880\",\"#FF97FF\",\"#FECB52\"],\"font\":{\"color\":\"#2a3f5f\"},\"geo\":{\"bgcolor\":\"white\",\"lakecolor\":\"white\",\"landcolor\":\"#E5ECF6\",\"showlakes\":true,\"showland\":true,\"subunitcolor\":\"white\"},\"hoverlabel\":{\"align\":\"left\"},\"hovermode\":\"closest\",\"mapbox\":{\"style\":\"light\"},\"paper_bgcolor\":\"white\",\"plot_bgcolor\":\"#E5ECF6\",\"polar\":{\"angularaxis\":{\"gridcolor\":\"white\",\"linecolor\":\"white\",\"ticks\":\"\"},\"bgcolor\":\"#E5ECF6\",\"radialaxis\":{\"gridcolor\":\"white\",\"linecolor\":\"white\",\"ticks\":\"\"}},\"scene\":{\"xaxis\":{\"backgroundcolor\":\"#E5ECF6\",\"gridcolor\":\"white\",\"gridwidth\":2,\"linecolor\":\"white\",\"showbackground\":true,\"ticks\":\"\",\"zerolinecolor\":\"white\"},\"yaxis\":{\"backgroundcolor\":\"#E5ECF6\",\"gridcolor\":\"white\",\"gridwidth\":2,\"linecolor\":\"white\",\"showbackground\":true,\"ticks\":\"\",\"zerolinecolor\":\"white\"},\"zaxis\":{\"backgroundcolor\":\"#E5ECF6\",\"gridcolor\":\"white\",\"gridwidth\":2,\"linecolor\":\"white\",\"showbackground\":true,\"ticks\":\"\",\"zerolinecolor\":\"white\"}},\"shapedefaults\":{\"line\":{\"color\":\"#2a3f5f\"}},\"ternary\":{\"aaxis\":{\"gridcolor\":\"white\",\"linecolor\":\"white\",\"ticks\":\"\"},\"baxis\":{\"gridcolor\":\"white\",\"linecolor\":\"white\",\"ticks\":\"\"},\"bgcolor\":\"#E5ECF6\",\"caxis\":{\"gridcolor\":\"white\",\"linecolor\":\"white\",\"ticks\":\"\"}},\"title\":{\"x\":0.05},\"xaxis\":{\"automargin\":true,\"gridcolor\":\"white\",\"linecolor\":\"white\",\"ticks\":\"\",\"title\":{\"standoff\":15},\"zerolinecolor\":\"white\",\"zerolinewidth\":2},\"yaxis\":{\"automargin\":true,\"gridcolor\":\"white\",\"linecolor\":\"white\",\"ticks\":\"\",\"title\":{\"standoff\":15},\"zerolinecolor\":\"white\",\"zerolinewidth\":2}}},\"legend\":{\"tracegroupgap\":0},\"margin\":{\"t\":60}},                        {\"responsive\": true}                    ).then(function(){\n",
       "                            \n",
       "var gd = document.getElementById('ad7349b4-3b1c-46dd-bf16-f7d9627b05fa');\n",
       "var x = new MutationObserver(function (mutations, observer) {{\n",
       "        var display = window.getComputedStyle(gd).display;\n",
       "        if (!display || display === 'none') {{\n",
       "            console.log([gd, 'removed!']);\n",
       "            Plotly.purge(gd);\n",
       "            observer.disconnect();\n",
       "        }}\n",
       "}});\n",
       "\n",
       "// Listen for the removal of the full notebook cells\n",
       "var notebookContainer = gd.closest('#notebook-container');\n",
       "if (notebookContainer) {{\n",
       "    x.observe(notebookContainer, {childList: true});\n",
       "}}\n",
       "\n",
       "// Listen for the clearing of the current output cell\n",
       "var outputEl = gd.closest('.output');\n",
       "if (outputEl) {{\n",
       "    x.observe(outputEl, {childList: true});\n",
       "}}\n",
       "\n",
       "                        })                };                });            </script>        </div>"
      ]
     },
     "metadata": {},
     "output_type": "display_data"
    }
   ],
   "source": [
    "import plotly.express as px\n",
    "fig = px.parallel_coordinates(dfz)\n",
    "fig.show()"
   ]
  }
 ],
 "metadata": {
  "kernelspec": {
   "display_name": "Python 3 (ipykernel)",
   "language": "python",
   "name": "python3"
  },
  "language_info": {
   "codemirror_mode": {
    "name": "ipython",
    "version": 3
   },
   "file_extension": ".py",
   "mimetype": "text/x-python",
   "name": "python",
   "nbconvert_exporter": "python",
   "pygments_lexer": "ipython3",
   "version": "3.9.12"
  }
 },
 "nbformat": 4,
 "nbformat_minor": 5
}
